{
 "cells": [
  {
   "cell_type": "markdown",
   "metadata": {},
   "source": [
    "# Tutorial / Proof of Concept for BDI+Kinetic Modeling\n",
    "\n",
    "Please refer to infer_parameters.ipynb for more detailed comments.\n",
    "\n",
    "This notebook just exists so that you can sample ER and LH models in parallel. Moreover, for the LH model we needed to somewhat modify the priors and guess LH_start_parameters."
   ]
  },
  {
   "cell_type": "markdown",
   "metadata": {},
   "source": [
    "# Packages"
   ]
  },
  {
   "cell_type": "code",
   "execution_count": 1,
   "metadata": {
    "collapsed": true
   },
   "outputs": [],
   "source": [
    "import copy\n",
    "import numpy as np\n",
    "import matplotlib.pyplot as plt\n",
    "%matplotlib inline\n",
    "import pandas as pd\n",
    "from pathos.multiprocessing import Pool\n",
    "\n",
    "from convenience import reformat_local_parameters\n",
    "from kineticmodel_bdi import KineticModel\n",
    "from kineticmodel_bdi.bayesian_framework import Likelihood, FixStandardDeviation\n",
    "from kineticmodel_bdi.sampling import UniformMinMax, SamplingEnvironment, sample_until_convergence"
   ]
  },
  {
   "cell_type": "markdown",
   "metadata": {},
   "source": [
    "# Define model"
   ]
  },
  {
   "cell_type": "markdown",
   "metadata": {},
   "source": [
    "## reactions\n",
    "\n",
    "Every reaction is a list:\n",
    "\n",
    "1. The first entry is a dictionary with all educts and their stoichiometry.\n",
    "2. The second entry is a dictionary with all products and their stoichiometry.\n",
    "3. The last entry is a string containing the name of the rate constant."
   ]
  },
  {
   "cell_type": "code",
   "execution_count": 2,
   "metadata": {
    "collapsed": true
   },
   "outputs": [],
   "source": [
    "adsorption_equilibrium =  [[{'A': 1, 'S': 1}, {'AS': 1}, 'ka'],\n",
    "                           [{'AS': 1}, {'A': 1, 'S': 1}, 'kd']]"
   ]
  },
  {
   "cell_type": "code",
   "execution_count": 3,
   "metadata": {
    "collapsed": true
   },
   "outputs": [],
   "source": [
    "ER_reactions = copy.deepcopy(adsorption_equilibrium)\n",
    "ER_reactions.append([{'A': 1, 'AS': 1}, {'A': 1, 'S': 1, 'P': 1}, 'k_ER'])"
   ]
  },
  {
   "cell_type": "code",
   "execution_count": 4,
   "metadata": {
    "collapsed": true
   },
   "outputs": [],
   "source": [
    "LH_reactions = copy.deepcopy(adsorption_equilibrium)\n",
    "LH_reactions.append([{'AS': 2}, {'AS': 1, 'P': 1, 'S': 1}, 'k_LH'])"
   ]
  },
  {
   "cell_type": "markdown",
   "metadata": {},
   "source": [
    "## Starting parameters\n",
    "\n",
    "LH parameters are different from ER parameters, I found one \"decent\" set of starting positions. It's far off but does not fail/yield loglikelihood of -infinity."
   ]
  },
  {
   "cell_type": "code",
   "execution_count": 5,
   "metadata": {},
   "outputs": [
    {
     "data": {
      "text/plain": [
       "parm\n",
       "KA           7.647041\n",
       "S0          -7.878408\n",
       "k           -2.646065\n",
       "kd          -2.082480\n",
       "sigma_ads   -8.656406\n",
       "sigma_kin   -6.602888\n",
       "Name: val, dtype: float64"
      ]
     },
     "execution_count": 5,
     "metadata": {},
     "output_type": "execute_result"
    }
   ],
   "source": [
    "LH_start_parameters_reduced = pd.read_csv('LH_guess.csv', names=['parm', 'val'])\n",
    "LH_start_parameters_reduced.index = LH_start_parameters_reduced['parm']\n",
    "LH_start_parameters_reduced = LH_start_parameters_reduced['val']\n",
    "LH_start_parameters_reduced "
   ]
  },
  {
   "cell_type": "markdown",
   "metadata": {},
   "source": [
    "Some parameters need to be calculated from other ones:\n",
    "\n",
    "$k_a = k_d \\cdot K_A$"
   ]
  },
  {
   "cell_type": "markdown",
   "metadata": {},
   "source": [
    "We get the full set of parameters:"
   ]
  },
  {
   "cell_type": "code",
   "execution_count": 6,
   "metadata": {},
   "outputs": [
    {
     "data": {
      "text/plain": [
       "parm\n",
       "KA            7.647041\n",
       "S0           -7.878408\n",
       "k            -2.646065\n",
       "kd           -2.082480\n",
       "sigma_ads    -8.656406\n",
       "sigma_kin    -6.602888\n",
       "ka            5.564562\n",
       "k_LH         13.110752\n",
       "k_ER          5.232343\n",
       "Name: val, dtype: float64"
      ]
     },
     "execution_count": 6,
     "metadata": {},
     "output_type": "execute_result"
    }
   ],
   "source": [
    "LH_start_parameters = reformat_local_parameters(LH_start_parameters_reduced)\n",
    "LH_start_parameters"
   ]
  },
  {
   "cell_type": "markdown",
   "metadata": {},
   "source": [
    "# Recover parameters from data"
   ]
  },
  {
   "cell_type": "markdown",
   "metadata": {},
   "source": [
    "## Read in data\n",
    "\n",
    "We can have a short look at the data, don't worry, they'll be visualized later:\n",
    "\n",
    "Columns are named after the starting concentrations of the experiment.\n",
    "Species A is varied:"
   ]
  },
  {
   "cell_type": "code",
   "execution_count": 7,
   "metadata": {},
   "outputs": [
    {
     "data": {
      "text/html": [
       "<div>\n",
       "<style scoped>\n",
       "    .dataframe tbody tr th:only-of-type {\n",
       "        vertical-align: middle;\n",
       "    }\n",
       "\n",
       "    .dataframe tbody tr th {\n",
       "        vertical-align: top;\n",
       "    }\n",
       "\n",
       "    .dataframe thead th {\n",
       "        text-align: right;\n",
       "    }\n",
       "</style>\n",
       "<table border=\"1\" class=\"dataframe\">\n",
       "  <thead>\n",
       "    <tr style=\"text-align: right;\">\n",
       "      <th>A</th>\n",
       "      <th>1e-06</th>\n",
       "      <th>2e-06</th>\n",
       "      <th>5e-06</th>\n",
       "    </tr>\n",
       "    <tr>\n",
       "      <th>time / s</th>\n",
       "      <th></th>\n",
       "      <th></th>\n",
       "      <th></th>\n",
       "    </tr>\n",
       "  </thead>\n",
       "  <tbody>\n",
       "    <tr>\n",
       "      <th>0</th>\n",
       "      <td>9.406331e-07</td>\n",
       "      <td>2.014820e-06</td>\n",
       "      <td>0.000005</td>\n",
       "    </tr>\n",
       "    <tr>\n",
       "      <th>60</th>\n",
       "      <td>9.721912e-07</td>\n",
       "      <td>1.605037e-06</td>\n",
       "      <td>0.000004</td>\n",
       "    </tr>\n",
       "    <tr>\n",
       "      <th>120</th>\n",
       "      <td>7.327506e-07</td>\n",
       "      <td>1.305339e-06</td>\n",
       "      <td>0.000003</td>\n",
       "    </tr>\n",
       "    <tr>\n",
       "      <th>180</th>\n",
       "      <td>5.121232e-07</td>\n",
       "      <td>1.140978e-06</td>\n",
       "      <td>0.000003</td>\n",
       "    </tr>\n",
       "    <tr>\n",
       "      <th>240</th>\n",
       "      <td>5.039900e-07</td>\n",
       "      <td>1.072163e-06</td>\n",
       "      <td>0.000003</td>\n",
       "    </tr>\n",
       "    <tr>\n",
       "      <th>300</th>\n",
       "      <td>3.852125e-07</td>\n",
       "      <td>6.834921e-07</td>\n",
       "      <td>0.000002</td>\n",
       "    </tr>\n",
       "    <tr>\n",
       "      <th>360</th>\n",
       "      <td>2.895409e-07</td>\n",
       "      <td>5.558534e-07</td>\n",
       "      <td>0.000002</td>\n",
       "    </tr>\n",
       "    <tr>\n",
       "      <th>420</th>\n",
       "      <td>6.202657e-08</td>\n",
       "      <td>3.572558e-07</td>\n",
       "      <td>0.000001</td>\n",
       "    </tr>\n",
       "    <tr>\n",
       "      <th>480</th>\n",
       "      <td>1.181282e-07</td>\n",
       "      <td>4.996623e-07</td>\n",
       "      <td>0.000001</td>\n",
       "    </tr>\n",
       "  </tbody>\n",
       "</table>\n",
       "</div>"
      ],
      "text/plain": [
       "A             0.000001      0.000002  0.000005\n",
       "time / s                                      \n",
       "0         9.406331e-07  2.014820e-06  0.000005\n",
       "60        9.721912e-07  1.605037e-06  0.000004\n",
       "120       7.327506e-07  1.305339e-06  0.000003\n",
       "180       5.121232e-07  1.140978e-06  0.000003\n",
       "240       5.039900e-07  1.072163e-06  0.000003\n",
       "300       3.852125e-07  6.834921e-07  0.000002\n",
       "360       2.895409e-07  5.558534e-07  0.000002\n",
       "420       6.202657e-08  3.572558e-07  0.000001\n",
       "480       1.181282e-07  4.996623e-07  0.000001"
      ]
     },
     "execution_count": 7,
     "metadata": {},
     "output_type": "execute_result"
    }
   ],
   "source": [
    "observed_kin_data = pd.read_csv('observed_kin_data.csv', index_col=0)\n",
    "observed_kin_data.columns = observed_kin_data.columns.astype(float)\n",
    "observed_kin_data.columns.name = 'A'\n",
    "observed_kin_data"
   ]
  },
  {
   "cell_type": "markdown",
   "metadata": {},
   "source": [
    "In the equilibrium adsorption, there are concentrations of adsorbed molecule AS compared to concentrations of unbound A."
   ]
  },
  {
   "cell_type": "code",
   "execution_count": 8,
   "metadata": {},
   "outputs": [
    {
     "data": {
      "text/plain": [
       "A\n",
       "3.162278e-09    1.060498e-09\n",
       "5.011872e-09    4.354685e-09\n",
       "7.943282e-09    4.855858e-09\n",
       "1.258925e-08    5.062885e-09\n",
       "1.995262e-08    4.912332e-09\n",
       "3.162278e-08    6.227394e-09\n",
       "5.011872e-08    9.355558e-09\n",
       "7.943282e-08    9.522401e-09\n",
       "1.258925e-07    1.015636e-08\n",
       "1.995262e-07    9.393047e-09\n",
       "Name: AS, dtype: float64"
      ]
     },
     "execution_count": 8,
     "metadata": {},
     "output_type": "execute_result"
    }
   ],
   "source": [
    "observed_eq_adsorption_data = pd.read_csv('observed_eq_adsorption_data.csv', index_col=0, names=['A', 'AS'])\n",
    "observed_eq_adsorption_data = observed_eq_adsorption_data['AS']\n",
    "observed_eq_adsorption_data"
   ]
  },
  {
   "cell_type": "markdown",
   "metadata": {},
   "source": [
    "For time-dependent adsorption we compare [AS] against time."
   ]
  },
  {
   "cell_type": "code",
   "execution_count": 9,
   "metadata": {},
   "outputs": [
    {
     "data": {
      "text/html": [
       "<div>\n",
       "<style scoped>\n",
       "    .dataframe tbody tr th:only-of-type {\n",
       "        vertical-align: middle;\n",
       "    }\n",
       "\n",
       "    .dataframe tbody tr th {\n",
       "        vertical-align: top;\n",
       "    }\n",
       "\n",
       "    .dataframe thead th {\n",
       "        text-align: right;\n",
       "    }\n",
       "</style>\n",
       "<table border=\"1\" class=\"dataframe\">\n",
       "  <thead>\n",
       "    <tr style=\"text-align: right;\">\n",
       "      <th>A</th>\n",
       "      <th>2.5e-08</th>\n",
       "      <th>5e-08</th>\n",
       "    </tr>\n",
       "    <tr>\n",
       "      <th>time / s</th>\n",
       "      <th></th>\n",
       "      <th></th>\n",
       "    </tr>\n",
       "  </thead>\n",
       "  <tbody>\n",
       "    <tr>\n",
       "      <th>10.0</th>\n",
       "      <td>1.582637e-09</td>\n",
       "      <td>1.888604e-09</td>\n",
       "    </tr>\n",
       "    <tr>\n",
       "      <th>15.0</th>\n",
       "      <td>1.508550e-09</td>\n",
       "      <td>2.463989e-09</td>\n",
       "    </tr>\n",
       "    <tr>\n",
       "      <th>20.0</th>\n",
       "      <td>1.399799e-09</td>\n",
       "      <td>5.044939e-09</td>\n",
       "    </tr>\n",
       "    <tr>\n",
       "      <th>25.0</th>\n",
       "      <td>2.348757e-09</td>\n",
       "      <td>5.235563e-09</td>\n",
       "    </tr>\n",
       "    <tr>\n",
       "      <th>30.0</th>\n",
       "      <td>3.265425e-09</td>\n",
       "      <td>7.063814e-09</td>\n",
       "    </tr>\n",
       "    <tr>\n",
       "      <th>35.0</th>\n",
       "      <td>2.369515e-09</td>\n",
       "      <td>6.329771e-09</td>\n",
       "    </tr>\n",
       "    <tr>\n",
       "      <th>40.0</th>\n",
       "      <td>5.359529e-09</td>\n",
       "      <td>8.162859e-09</td>\n",
       "    </tr>\n",
       "    <tr>\n",
       "      <th>45.0</th>\n",
       "      <td>5.523869e-09</td>\n",
       "      <td>6.989624e-09</td>\n",
       "    </tr>\n",
       "    <tr>\n",
       "      <th>50.0</th>\n",
       "      <td>4.366309e-09</td>\n",
       "      <td>6.256948e-09</td>\n",
       "    </tr>\n",
       "    <tr>\n",
       "      <th>55.0</th>\n",
       "      <td>3.997590e-09</td>\n",
       "      <td>8.411041e-09</td>\n",
       "    </tr>\n",
       "  </tbody>\n",
       "</table>\n",
       "</div>"
      ],
      "text/plain": [
       "A         2.500000e-08  5.000000e-08\n",
       "time / s                            \n",
       "10.0      1.582637e-09  1.888604e-09\n",
       "15.0      1.508550e-09  2.463989e-09\n",
       "20.0      1.399799e-09  5.044939e-09\n",
       "25.0      2.348757e-09  5.235563e-09\n",
       "30.0      3.265425e-09  7.063814e-09\n",
       "35.0      2.369515e-09  6.329771e-09\n",
       "40.0      5.359529e-09  8.162859e-09\n",
       "45.0      5.523869e-09  6.989624e-09\n",
       "50.0      4.366309e-09  6.256948e-09\n",
       "55.0      3.997590e-09  8.411041e-09"
      ]
     },
     "execution_count": 9,
     "metadata": {},
     "output_type": "execute_result"
    }
   ],
   "source": [
    "observed_td_adsorption_data = pd.read_csv('observed_td_adsorption_data.csv', index_col=0)\n",
    "observed_td_adsorption_data.columns = observed_td_adsorption_data.columns.astype(float)\n",
    "observed_td_adsorption_data.columns.name = 'A'\n",
    "observed_td_adsorption_data"
   ]
  },
  {
   "cell_type": "markdown",
   "metadata": {},
   "source": [
    "## Priors\n",
    "\n",
    "We are going to assume uniform distributions as priors. We will cover 5 orders of magnitude into both directions because LH does not work well. In a real application, this process requires more thought, see the main text of our paper."
   ]
  },
  {
   "cell_type": "code",
   "execution_count": 10,
   "metadata": {
    "collapsed": true
   },
   "outputs": [],
   "source": [
    "lower_boundaries = LH_start_parameters - 5\n",
    "upper_boundaries = LH_start_parameters + 5"
   ]
  },
  {
   "cell_type": "code",
   "execution_count": 11,
   "metadata": {
    "collapsed": true
   },
   "outputs": [],
   "source": [
    "prior_distributions = {x: UniformMinMax(val_min=lower_boundaries[x], val_max=upper_boundaries[x]) \n",
    "                       for x in LH_start_parameters_reduced.index}"
   ]
  },
  {
   "cell_type": "code",
   "execution_count": 12,
   "metadata": {},
   "outputs": [
    {
     "data": {
      "text/plain": [
       "{'KA': <workflows.kinetic_modeling.sampling.UniformMinMax at 0x7f8a5409e250>,\n",
       " 'S0': <workflows.kinetic_modeling.sampling.UniformMinMax at 0x7f8a5409e690>,\n",
       " 'k': <workflows.kinetic_modeling.sampling.UniformMinMax at 0x7f8a5409e9d0>,\n",
       " 'kd': <workflows.kinetic_modeling.sampling.UniformMinMax at 0x7f8a5409e990>,\n",
       " 'sigma_ads': <workflows.kinetic_modeling.sampling.UniformMinMax at 0x7f8a5409e950>,\n",
       " 'sigma_kin': <workflows.kinetic_modeling.sampling.UniformMinMax at 0x7f8a5409ea10>}"
      ]
     },
     "execution_count": 12,
     "metadata": {},
     "output_type": "execute_result"
    }
   ],
   "source": [
    "prior_distributions"
   ]
  },
  {
   "cell_type": "markdown",
   "metadata": {},
   "source": [
    "## Prepare sampling\n",
    "\n",
    "We're building the kinetic models and creating Likelihood objects.\n",
    "The kinetic models predict concentrations based on the guess for the rate constants.\n",
    "\n",
    "The Likelihood objects are wrapped around the kinetic models. They take the estimate of the concentrations from the kinetic models and evaluate $p(D|\\theta)$ for them"
   ]
  },
  {
   "cell_type": "markdown",
   "metadata": {},
   "source": [
    "### Kinetic data - LH model"
   ]
  },
  {
   "cell_type": "code",
   "execution_count": 13,
   "metadata": {},
   "outputs": [
    {
     "data": {
      "text/plain": [
       "Text(0,0.5,'[A] / M')"
      ]
     },
     "execution_count": 13,
     "metadata": {},
     "output_type": "execute_result"
    },
    {
     "name": "stderr",
     "output_type": "stream",
     "text": [
      "DEBUG:matplotlib.font_manager:findfont: Matching :family=sans-serif:style=normal:variant=normal:weight=normal:stretch=normal:size=10.0 to DejaVu Sans (u'/home/niklas/anaconda2/lib/python2.7/site-packages/matplotlib/mpl-data/fonts/ttf/DejaVuSans.ttf') with score of 0.050000\n"
     ]
    },
    {
     "data": {
      "image/png": "[encoded data removed]",
      "text/plain": [
       "<Figure size 432x288 with 1 Axes>"
      ]
     },
     "metadata": {},
     "output_type": "display_data"
    }
   ],
   "source": [
    "LH_model = KineticModel(observed_kin_data, LH_reactions, LH_start_parameters, educts=['A'])\n",
    "LH_model.create_native_odesys()\n",
    "LH_model.show_exp_data()\n",
    "plt.ylabel('[A] / M')"
   ]
  },
  {
   "cell_type": "code",
   "execution_count": 14,
   "metadata": {},
   "outputs": [
    {
     "data": {
      "text/html": [
       "<table class=\"chempy_ReactionSystem chempy_140232092150672\"><tr><th style=\"text-align:center;\" colspan=\"4\"></th></tr><tr class=\"chempy_140232092150672_0\"><td style=\"text-align:right;\"><span class=\"chempy_A\" style=\"border-radius: 5pt; padding: 0pt 3pt 0pt 3pt;\">A</span> + <span class=\"chempy_S\" style=\"border-radius: 5pt; padding: 0pt 3pt 0pt 3pt;\">S</span></td><td style=\"text-align:center;\">&rarr;</td><td style=\"text-align:left;\"><span class=\"chempy_AS\" style=\"border-radius: 5pt; padding: 0pt 3pt 0pt 3pt;\">AS</span></td><td style=\"text-align:left;\">&nbsp;ka</td></tr>\n",
       "\n",
       "<tr class=\"chempy_140232092150672_1\"><td style=\"text-align:right;\"><span class=\"chempy_AS\" style=\"border-radius: 5pt; padding: 0pt 3pt 0pt 3pt;\">AS</span></td><td style=\"text-align:center;\">&rarr;</td><td style=\"text-align:left;\"><span class=\"chempy_A\" style=\"border-radius: 5pt; padding: 0pt 3pt 0pt 3pt;\">A</span> + <span class=\"chempy_S\" style=\"border-radius: 5pt; padding: 0pt 3pt 0pt 3pt;\">S</span></td><td style=\"text-align:left;\">&nbsp;kd</td></tr>\n",
       "\n",
       "<tr class=\"chempy_140232092150672_2\"><td style=\"text-align:right;\">2 <span class=\"chempy_AS\" style=\"border-radius: 5pt; padding: 0pt 3pt 0pt 3pt;\">AS</span></td><td style=\"text-align:center;\">&rarr;</td><td style=\"text-align:left;\"><span class=\"chempy_AS\" style=\"border-radius: 5pt; padding: 0pt 3pt 0pt 3pt;\">AS</span> + <span class=\"chempy_P\" style=\"background-color:#90ee90; border: 1px solid #008000; border-radius: 5pt; padding: 0pt 3pt 0pt 3pt;\">P</span> + <span class=\"chempy_S\" style=\"border-radius: 5pt; padding: 0pt 3pt 0pt 3pt;\">S</span></td><td style=\"text-align:left;\">&nbsp;k_LH</td></tr></table><script type=\"text/javascript\">\n",
       "var cls_names_substances = [\"chempy_A\", \"chempy_AS\", \"chempy_P\", \"chempy_S\"];\n",
       "var substance_row_cls_irrel = {\"chempy_AS\": [], \"chempy_S\": [], \"chempy_A\": [\"chempy_140232092150672_2\"], \"chempy_P\": [\"chempy_140232092150672_0\", \"chempy_140232092150672_1\"]};\n",
       "var elms = {};\n",
       "var n = {}, nsubstances = cls_names_substances.length;\n",
       "var nirrel = {};\n",
       "function changeColor(classname, color) {\n",
       "    var curN = n[classname];\n",
       "    for(var i = 0; i < curN; i++) {\n",
       "        elms[classname][i].style.backgroundColor = color;\n",
       "    }\n",
       "}\n",
       "function toggleVisibility(classname_substance) {\n",
       "    var curN = nirrel[classname_substance];\n",
       "    for (var i=0; i<curN; i++) {\n",
       "        var objs = document.getElementsByClassName(substance_row_cls_irrel[classname_substance][i]);\n",
       "        for (var j=0; j<objs.length; ++j){\n",
       "            objs[j].style.display = objs[j].style.display == \"none\" ? \"table-row\" : \"none\";\n",
       "        }\n",
       "    }\n",
       "}\n",
       "function resetTab(tab){\n",
       "    tab.style.border = \"0px\";\n",
       "    var rows = tab.getElementsByTagName('tr');\n",
       "    [].forEach.call(rows, function(row){\n",
       "        row.style.display = \"table-row\";\n",
       "    });\n",
       "    tab.getElementsByTagName('th')[0].innerHTML = tab.ori_header +\n",
       "        \"<br>(click on species to show a subset of reactions)\";\n",
       "};\n",
       "\n",
       "for(var k = 0; k < nsubstances; k++) {\n",
       "    var curClass = cls_names_substances[k];\n",
       "    var curIrrel = substance_row_cls_irrel[k];\n",
       "    elms[curClass] = document.getElementsByClassName(curClass);\n",
       "    n[curClass] = elms[curClass].length;\n",
       "    nirrel[curClass] = substance_row_cls_irrel[curClass].length;\n",
       "    var curN = n[curClass];\n",
       "    for(var i = 0; i < curN; i++) {\n",
       "        elms[curClass][i].onmouseover = function() {\n",
       "            changeColor(this.className, \"LightBlue\");\n",
       "        };\n",
       "        elms[curClass][i].onmouseout = function() {\n",
       "            changeColor(this.className, \"inherit\");\n",
       "        };\n",
       "        elms[curClass][i].onclick = function() {\n",
       "            var tab = this.closest(\"table\");\n",
       "            resetTab(tab);\n",
       "            tab.style.border = \"1px dashed #000000\";\n",
       "            toggleVisibility(this.className);\n",
       "            tab.getElementsByTagName('th')[0].innerHTML = tab.ori_header +\n",
       "                 \"<br>Only showing reactions involving: \" + this.innerHTML +\n",
       "                 \" (double-click to reset)\";\n",
       "        };\n",
       "    }\n",
       "};\n",
       "var chempy_tabs = document.querySelectorAll('table.chempy_140232092150672');\n",
       "[].forEach.call(chempy_tabs, function(tab){\n",
       "    tab.ori_header = tab.getElementsByTagName('th')[0].innerHTML;\n",
       "    tab.ondblclick = function(){\n",
       "        resetTab(this);\n",
       "        this.scrollIntoView();\n",
       "    };\n",
       "});\n",
       "[].forEach.call(chempy_tabs, function(tab){\n",
       "    resetTab(tab);\n",
       "});\n",
       "</script>"
      ],
      "text/plain": [
       "<chempy.reactionsystem.ReactionSystem at 0x7f8a5409eb90>"
      ]
     },
     "execution_count": 14,
     "metadata": {},
     "output_type": "execute_result"
    }
   ],
   "source": [
    "LH_model.model"
   ]
  },
  {
   "cell_type": "code",
   "execution_count": 15,
   "metadata": {},
   "outputs": [
    {
     "name": "stderr",
     "output_type": "stream",
     "text": [
      "INFO:pyodesys.native._base:In \"/tmp/tmpLoLFZx_pycodeexport_pyodesys_NativeCvodeCode\", executing:\n",
      "\"/usr/bin/g++ -c -std=c++11 -Wall -Wextra -fPIC -O2 -ffast-math -funroll-loops -fopenmp -o ./odesys_anyode.o -I/home/niklas/anaconda2/lib/python2.7/site-packages/numpy/core/include -I/home/niklas/anaconda2/lib/python2.7/site-packages/pyodesys/native/sources -I/home/niklas/anaconda2/lib/python2.7/site-packages/pycvodes/include odesys_anyode.cpp\"\n",
      "INFO:pyodesys.native._base:In \"/tmp/tmpLoLFZx_pycodeexport_pyodesys_NativeCvodeCode\", executing:\n",
      "\"/usr/bin/g++ -pthread -shared -std=c++11 -Wall -Wextra -fPIC -O2 -ffast-math -funroll-loops -fopenmp -o /tmp/tmpLoLFZx_pycodeexport_pyodesys_NativeCvodeCode/_cvode_wrapper.so -I/home/niklas/anaconda2/lib/python2.7/site-packages/numpy/core/include -I/home/niklas/anaconda2/lib/python2.7/site-packages/pyodesys/native/sources -I/home/niklas/anaconda2/lib/python2.7/site-packages/pycvodes/include odesys_anyode.o _cvode_wrapper.o -lsundials_cvodes -lsundials_nvecserial -lsundials_sunlinsollapackdense -lsundials_sunlinsollapackband -lopenblas -lpython2.7\"\n",
      "/home/niklas/python_packages/workflows/kinetic_modeling/bayesian_framework.py:144: MatplotlibDeprecationWarning: scipy.stats.norm.pdf\n",
      "  return self.norm(modeled_value, exp_value, sigma)\n"
     ]
    }
   ],
   "source": [
    "LH_likelihood = Likelihood(LH_model, FixStandardDeviation('sigma_kin'))"
   ]
  },
  {
   "cell_type": "code",
   "execution_count": 16,
   "metadata": {
    "collapsed": true
   },
   "outputs": [],
   "source": [
    "LH_likelihood.pickle_dump_likelihood_specification('LH_likelihood.pkl', 'LH_model.pkl')"
   ]
  },
  {
   "cell_type": "markdown",
   "metadata": {},
   "source": [
    "### Time-dependent adsorption"
   ]
  },
  {
   "cell_type": "code",
   "execution_count": 17,
   "metadata": {},
   "outputs": [
    {
     "data": {
      "text/plain": [
       "Text(0,0.5,'[AS] / M')"
      ]
     },
     "execution_count": 17,
     "metadata": {},
     "output_type": "execute_result"
    },
    {
     "data": {
      "image/png": "[encoded data removed]",
      "text/plain": [
       "<Figure size 432x288 with 1 Axes>"
      ]
     },
     "metadata": {},
     "output_type": "display_data"
    }
   ],
   "source": [
    "td_adsorption_model = KineticModel(observed_td_adsorption_data, adsorption_equilibrium, LH_start_parameters, educts=['A'], observed_species=['AS'])\n",
    "td_adsorption_model.create_native_odesys()\n",
    "td_adsorption_model.show_exp_data()\n",
    "plt.ylabel('[AS] / M')"
   ]
  },
  {
   "cell_type": "code",
   "execution_count": 18,
   "metadata": {},
   "outputs": [
    {
     "name": "stderr",
     "output_type": "stream",
     "text": [
      "INFO:pyodesys.native._base:In \"/tmp/tmpvvSDim_pycodeexport_pyodesys_NativeCvodeCode\", executing:\n",
      "\"/usr/bin/g++ -c -std=c++11 -Wall -Wextra -fPIC -O2 -ffast-math -funroll-loops -fopenmp -o ./odesys_anyode.o -I/home/niklas/anaconda2/lib/python2.7/site-packages/numpy/core/include -I/home/niklas/anaconda2/lib/python2.7/site-packages/pyodesys/native/sources -I/home/niklas/anaconda2/lib/python2.7/site-packages/pycvodes/include odesys_anyode.cpp\"\n",
      "INFO:pyodesys.native._base:In \"/tmp/tmpvvSDim_pycodeexport_pyodesys_NativeCvodeCode\", executing:\n",
      "\"/usr/bin/g++ -pthread -shared -std=c++11 -Wall -Wextra -fPIC -O2 -ffast-math -funroll-loops -fopenmp -o /tmp/tmpvvSDim_pycodeexport_pyodesys_NativeCvodeCode/_cvode_wrapper.so -I/home/niklas/anaconda2/lib/python2.7/site-packages/numpy/core/include -I/home/niklas/anaconda2/lib/python2.7/site-packages/pyodesys/native/sources -I/home/niklas/anaconda2/lib/python2.7/site-packages/pycvodes/include odesys_anyode.o _cvode_wrapper.o -lsundials_cvodes -lsundials_nvecserial -lsundials_sunlinsollapackdense -lsundials_sunlinsollapackband -lopenblas -lpython2.7\"\n"
     ]
    }
   ],
   "source": [
    "td_adsorption_likelihood = Likelihood(td_adsorption_model, FixStandardDeviation('sigma_ads'))"
   ]
  },
  {
   "cell_type": "markdown",
   "metadata": {},
   "source": [
    "### Equilibrium adsorption"
   ]
  },
  {
   "cell_type": "code",
   "execution_count": 19,
   "metadata": {
    "collapsed": true
   },
   "outputs": [],
   "source": [
    "def langmuir_isotherm(A, KA, S0):\n",
    "    KAA = A * KA\n",
    "    return S0* KAA / (1 + KAA)"
   ]
  },
  {
   "cell_type": "code",
   "execution_count": 20,
   "metadata": {
    "collapsed": true
   },
   "outputs": [],
   "source": [
    "conc_A = observed_eq_adsorption_data.index.values"
   ]
  },
  {
   "cell_type": "code",
   "execution_count": 21,
   "metadata": {
    "collapsed": true
   },
   "outputs": [],
   "source": [
    "def calc_eq_adsorption(parameters):\n",
    "    return langmuir_isotherm(conc_A, 10**parameters['KA'], 10**parameters['S0'])"
   ]
  },
  {
   "cell_type": "code",
   "execution_count": 22,
   "metadata": {},
   "outputs": [
    {
     "data": {
      "text/plain": [
       "<matplotlib.axes._subplots.AxesSubplot at 0x7f50f4d74610>"
      ]
     },
     "execution_count": 22,
     "metadata": {},
     "output_type": "execute_result"
    },
    {
     "data": {
      "text/plain": [
       "[<matplotlib.lines.Line2D at 0x7f50f4c92b10>]"
      ]
     },
     "execution_count": 22,
     "metadata": {},
     "output_type": "execute_result"
    },
    {
     "data": {
      "text/plain": [
       "Text(0,0.5,'[A] / M')"
      ]
     },
     "execution_count": 22,
     "metadata": {},
     "output_type": "execute_result"
    },
    {
     "data": {
      "text/plain": [
       "Text(0,0.5,'[AS] / M')"
      ]
     },
     "execution_count": 22,
     "metadata": {},
     "output_type": "execute_result"
    },
    {
     "data": {
      "image/png": "[encoded data removed]",
      "text/plain": [
       "<Figure size 432x288 with 1 Axes>"
      ]
     },
     "metadata": {},
     "output_type": "display_data"
    }
   ],
   "source": [
    "observed_eq_adsorption_data.plot(style='o')\n",
    "plt.plot(conc_A, calc_eq_adsorption(LH_start_parameters), c='b')\n",
    "plt.ylabel('[A] / M')\n",
    "plt.ylabel('[AS] / M')"
   ]
  },
  {
   "cell_type": "code",
   "execution_count": 23,
   "metadata": {
    "collapsed": true
   },
   "outputs": [],
   "source": [
    "eq_adsorption_likelihood = Likelihood(calc_eq_adsorption, FixStandardDeviation('sigma_ads'), exp_data_formatted=observed_eq_adsorption_data)"
   ]
  },
  {
   "cell_type": "markdown",
   "metadata": {},
   "source": [
    "# Sampling"
   ]
  },
  {
   "cell_type": "markdown",
   "metadata": {},
   "source": [
    "We need to define functions that call calc_likelihood from Likelihood Objects.\n",
    "Without this step, emcee cannot be parallelized because calc_likelihood cannot be pickled. This behavior is a bit odd but no big problem to circumvent."
   ]
  },
  {
   "cell_type": "code",
   "execution_count": 24,
   "metadata": {
    "collapsed": true
   },
   "outputs": [],
   "source": [
    "def logp_ER(parameters):\n",
    "    return ER_likelihood.calc_likelihood(parameters)\n",
    "\n",
    "def logp_LH(parameters):\n",
    "    return LH_likelihood.calc_likelihood(parameters)\n",
    "\n",
    "def logp_td_adsorption(parameters):\n",
    "    return td_adsorption_likelihood.calc_likelihood(parameters)\n",
    "\n",
    "def logp_eq_adsorption(parameters):\n",
    "    return eq_adsorption_likelihood.calc_likelihood(parameters)"
   ]
  },
  {
   "cell_type": "markdown",
   "metadata": {},
   "source": [
    "Sampling settings"
   ]
  },
  {
   "cell_type": "code",
   "execution_count": 25,
   "metadata": {
    "collapsed": true
   },
   "outputs": [],
   "source": [
    "# emcee uses walkers to explore the posterior landscape, see their publication\n",
    "nwalkers = 500\n",
    "nsteps_test = 1\n",
    "# what's the upper limit for steps to do?\n",
    "nsteps = 40000\n",
    "# only store every n-th step to the file to avoid bloat\n",
    "thin_by = 50"
   ]
  },
  {
   "cell_type": "markdown",
   "metadata": {},
   "source": [
    "We can evaluate the three experiments individually or jointly:"
   ]
  },
  {
   "cell_type": "code",
   "execution_count": 26,
   "metadata": {
    "collapsed": true
   },
   "outputs": [],
   "source": [
    "dict_list = [['eq', {'eq_adsorption': logp_eq_adsorption}],\n",
    "             ['td', {'td_adsorption': logp_td_adsorption}],\n",
    "             ['LH', {'LH': logp_LH}],\n",
    "             ['LH_eq', {'LH': logp_LH, 'eq_adsorption': logp_eq_adsorption}],\n",
    "             ['LH_eq_td', {'LH': logp_LH, 'eq_adsorption': logp_eq_adsorption, 'td_adsorption': logp_td_adsorption}]]"
   ]
  },
  {
   "cell_type": "markdown",
   "metadata": {},
   "source": [
    "Create a so-called SamplingEnvironment for every case:\n",
    "\n",
    "This will be handy to create a sampler, pass on the prior_distributions etc."
   ]
  },
  {
   "cell_type": "code",
   "execution_count": 27,
   "metadata": {
    "collapsed": true
   },
   "outputs": [],
   "source": [
    "env_list = []\n",
    "\n",
    "for x in dict_list:\n",
    "    curr_name = x[0]\n",
    "    curr_dict = x[1]\n",
    "    curr_entry = [x[0]]\n",
    "    curr_prior = prior_distributions\n",
    "#     if 'ER' in curr_dict.keys():\n",
    "#         curr_prior = prior_functions_ER\n",
    "#     elif 'LH' in curr_dict.keys():\n",
    "#         curr_prior = prior_functions_LH\n",
    "    \n",
    "    curr_env = SamplingEnvironment(curr_prior, curr_dict, reformat_local_parameters)\n",
    "    \n",
    "    env_list.append([curr_name, curr_env])"
   ]
  },
  {
   "cell_type": "code",
   "execution_count": 28,
   "metadata": {},
   "outputs": [
    {
     "data": {
      "text/plain": [
       "[['eq',\n",
       "  <workflows.kinetic_modeling.sampling.SamplingEnvironment at 0x7f50f4cc9490>],\n",
       " ['td',\n",
       "  <workflows.kinetic_modeling.sampling.SamplingEnvironment at 0x7f50f4cc95d0>],\n",
       " ['LH',\n",
       "  <workflows.kinetic_modeling.sampling.SamplingEnvironment at 0x7f50f4d335d0>],\n",
       " ['LH_eq',\n",
       "  <workflows.kinetic_modeling.sampling.SamplingEnvironment at 0x7f50f4cc9390>],\n",
       " ['LH_eq_td',\n",
       "  <workflows.kinetic_modeling.sampling.SamplingEnvironment at 0x7f50f4cc99d0>]]"
      ]
     },
     "execution_count": 28,
     "metadata": {},
     "output_type": "execute_result"
    }
   ],
   "source": [
    "env_list"
   ]
  },
  {
   "cell_type": "markdown",
   "metadata": {},
   "source": [
    "# Generate Pool if calculations are supposed to be parralelized"
   ]
  },
  {
   "cell_type": "code",
   "execution_count": 29,
   "metadata": {},
   "outputs": [
    {
     "name": "stderr",
     "output_type": "stream",
     "text": [
      "/home/niklas/python_packages/workflows/kinetic_modeling/bayesian_framework.py:136: RuntimeWarning: divide by zero encountered in log\n",
      "  log_likelihood = np.log(individual_likelihoods).sum()\n",
      "/home/niklas/python_packages/workflows/kinetic_modeling/bayesian_framework.py:136: RuntimeWarning: divide by zero encountered in log\n",
      "  log_likelihood = np.log(individual_likelihoods).sum()\n",
      "/home/niklas/python_packages/workflows/kinetic_modeling/bayesian_framework.py:136: RuntimeWarning: divide by zero encountered in log\n",
      "  log_likelihood = np.log(individual_likelihoods).sum()\n",
      "/home/niklas/python_packages/workflows/kinetic_modeling/bayesian_framework.py:136: RuntimeWarning: divide by zero encountered in log\n",
      "  log_likelihood = np.log(individual_likelihoods).sum()\n"
     ]
    }
   ],
   "source": [
    "local_pool = Pool(processes=4)"
   ]
  },
  {
   "cell_type": "code",
   "execution_count": 30,
   "metadata": {
    "collapsed": true
   },
   "outputs": [],
   "source": [
    "def choose_pool(name):\n",
    "    # evaluation langmuire isotherm is very fast, parallelization is slowing it down\n",
    "    if name == 'eq.h5':\n",
    "        return None\n",
    "    else:\n",
    "        return local_pool"
   ]
  },
  {
   "cell_type": "markdown",
   "metadata": {},
   "source": [
    "## Prepare everything"
   ]
  },
  {
   "cell_type": "code",
   "execution_count": 31,
   "metadata": {
    "collapsed": true
   },
   "outputs": [],
   "source": [
    "def do_sampling(environment, storage_name, sel_nsteps):\n",
    "    curr_pool = choose_pool(storage_name)\n",
    "    sampler = environment.setup_sampler(nwalkers, sel_pool=curr_pool, filename=storage_name)\n",
    "    start_pos = environment.resume_positions_or_create_new_ones(sampler)\n",
    "    sample_until_convergence(sampler, sel_nsteps, start_pos, thin_by=thin_by)"
   ]
  },
  {
   "cell_type": "code",
   "execution_count": 32,
   "metadata": {
    "collapsed": true
   },
   "outputs": [],
   "source": [
    "def make_sure_it_works(environment, storage_name):\n",
    "    success = False\n",
    "    while not success:\n",
    "#         try:\n",
    "        # We need to generate different starting points\n",
    "        do_sampling(environment, storage_name, nsteps_test)\n",
    "        success = True\n",
    "#         except:\n",
    "#             success = False"
   ]
  },
  {
   "cell_type": "code",
   "execution_count": 33,
   "metadata": {
    "scrolled": false
   },
   "outputs": [
    {
     "name": "stderr",
     "output_type": "stream",
     "text": [
      "/home/niklas/python_packages/workflows/kinetic_modeling/bayesian_framework.py:136: RuntimeWarning: divide by zero encountered in log\n",
      "  log_likelihood = np.log(individual_likelihoods).sum()\n",
      "100%|██████████| 50/50 [00:03<00:00, 15.89it/s]\n",
      "100%|██████████| 50/50 [00:10<00:00,  4.45it/s]\n",
      "100%|██████████| 50/50 [00:16<00:00,  3.18it/s]\n",
      "100%|██████████| 50/50 [00:15<00:00,  3.43it/s]\n",
      "100%|██████████| 50/50 [00:21<00:00,  2.33it/s]\n"
     ]
    }
   ],
   "source": [
    "for x in env_list:\n",
    "    store = x[0] + '.h5'\n",
    "    make_sure_it_works(x[1], store)"
   ]
  },
  {
   "cell_type": "markdown",
   "metadata": {},
   "source": [
    "### Production"
   ]
  },
  {
   "cell_type": "code",
   "execution_count": 34,
   "metadata": {},
   "outputs": [
    {
     "name": "stderr",
     "output_type": "stream",
     "text": [
      "\r",
      "  0%|          | 0/2000000 [00:00<?, ?it/s]"
     ]
    },
    {
     "name": "stdout",
     "output_type": "stream",
     "text": [
      "<workflows.kinetic_modeling.sampling.SamplingEnvironment object at 0x7f50f4cc9490>\n"
     ]
    },
    {
     "name": "stderr",
     "output_type": "stream",
     "text": [
      "  1%|          | 17450/2000000 [16:45<28:30:03, 19.32it/s]\n",
      "  0%|          | 0/2000000 [00:00<?, ?it/s]"
     ]
    },
    {
     "name": "stdout",
     "output_type": "stream",
     "text": [
      "<workflows.kinetic_modeling.sampling.SamplingEnvironment object at 0x7f50f4cc95d0>\n"
     ]
    },
    {
     "name": "stderr",
     "output_type": "stream",
     "text": [
      "  2%|▏         | 42450/2000000 [2:08:44<96:54:32,  5.61it/s] \n"
     ]
    },
    {
     "name": "stdout",
     "output_type": "stream",
     "text": [
      "<workflows.kinetic_modeling.sampling.SamplingEnvironment object at 0x7f50f4d335d0>\n"
     ]
    },
    {
     "name": "stderr",
     "output_type": "stream",
     "text": [
      "  1%|▏         | 27450/2000000 [1:51:31<127:36:07,  4.29it/s]\n"
     ]
    },
    {
     "name": "stdout",
     "output_type": "stream",
     "text": [
      "<workflows.kinetic_modeling.sampling.SamplingEnvironment object at 0x7f50f4cc9390>\n"
     ]
    },
    {
     "name": "stderr",
     "output_type": "stream",
     "text": [
      "  3%|▎         | 59950/2000000 [4:56:45<157:31:48,  3.42it/s]\n"
     ]
    },
    {
     "name": "stdout",
     "output_type": "stream",
     "text": [
      "<workflows.kinetic_modeling.sampling.SamplingEnvironment object at 0x7f50f4cc99d0>\n"
     ]
    },
    {
     "name": "stderr",
     "output_type": "stream",
     "text": [
      "  6%|▌         | 117450/2000000 [14:57:44<225:42:20,  2.32it/s]\n"
     ]
    }
   ],
   "source": [
    "for x in env_list:\n",
    "    store = x[0] + '.h5'\n",
    "    print x[1]\n",
    "    # We need to generate different starting points\n",
    "    do_sampling(x[1], store, nsteps)"
   ]
  }
 ],
 "metadata": {
  "kernelspec": {
   "display_name": "Python 2",
   "language": "python",
   "name": "python2"
  },
  "language_info": {
   "codemirror_mode": {
    "name": "ipython",
    "version": 2
   },
   "file_extension": ".py",
   "mimetype": "text/x-python",
   "name": "python",
   "nbconvert_exporter": "python",
   "pygments_lexer": "ipython2",
   "version": "2.7.15"
  }
 },
 "nbformat": 4,
 "nbformat_minor": 2
}
