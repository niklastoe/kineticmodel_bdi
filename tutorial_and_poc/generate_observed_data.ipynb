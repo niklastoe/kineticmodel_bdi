{
 "cells": [
  {
   "cell_type": "markdown",
   "metadata": {},
   "source": [
    "# Tutorial / Proof of Concept for BDI+Kinetic Modeling"
   ]
  },
  {
   "cell_type": "markdown",
   "metadata": {},
   "source": [
    "# Packages"
   ]
  },
  {
   "cell_type": "code",
   "execution_count": 1,
   "metadata": {
    "collapsed": true
   },
   "outputs": [],
   "source": [
    "import copy\n",
    "import numpy as np\n",
    "import matplotlib.pyplot as plt\n",
    "%matplotlib inline\n",
    "import pandas as pd\n",
    "import pickle\n",
    "\n",
    "from convenience import reformat_local_parameters\n",
    "from kineticmodel_bdi import KineticModel\n",
    "from kineticmodel_bdi.bayesian_framework import Likelihood, FixStandardDeviation"
   ]
  },
  {
   "cell_type": "markdown",
   "metadata": {},
   "source": [
    "# Define model"
   ]
  },
  {
   "cell_type": "markdown",
   "metadata": {},
   "source": [
    "## reactions\n",
    "\n",
    "Every reaction is a list:\n",
    "\n",
    "1. The first entry is a dictionary with all educts and their stoichiometry.\n",
    "2. The second entry is a dictionary with all products and their stoichiometry.\n",
    "3. The last entry is a string containing the name of the rate constant."
   ]
  },
  {
   "cell_type": "code",
   "execution_count": 2,
   "metadata": {
    "collapsed": true
   },
   "outputs": [],
   "source": [
    "adsorption_equilibrium =  [[{'A': 1, 'S': 1}, {'AS': 1}, 'ka'],\n",
    "                           [{'AS': 1}, {'A': 1, 'S': 1}, 'kd']]"
   ]
  },
  {
   "cell_type": "code",
   "execution_count": 3,
   "metadata": {
    "collapsed": true
   },
   "outputs": [],
   "source": [
    "ER_reactions = copy.deepcopy(adsorption_equilibrium)\n",
    "ER_reactions.append([{'A': 1, 'AS': 1}, {'A': 1, 'S': 1, 'P': 1}, 'k_ER'])"
   ]
  },
  {
   "cell_type": "code",
   "execution_count": 4,
   "metadata": {
    "collapsed": true
   },
   "outputs": [],
   "source": [
    "LH_reactions = copy.deepcopy(adsorption_equilibrium)\n",
    "LH_reactions.append([{'AS': 2}, {'AS': 1, 'P': 1, 'S': 1}, 'k_LH'])"
   ]
  },
  {
   "cell_type": "markdown",
   "metadata": {},
   "source": [
    "## true parameters\n",
    "\n",
    "We define the \"true\" parameters of the data at hand. Note that we always give parameters as log10."
   ]
  },
  {
   "cell_type": "code",
   "execution_count": 5,
   "metadata": {},
   "outputs": [
    {
     "data": {
      "text/plain": [
       "KA           8.0\n",
       "S0          -8.0\n",
       "k           -2.2\n",
       "kd          -2.2\n",
       "sigma_ads   -9.0\n",
       "sigma_kin   -7.0\n",
       "dtype: float64"
      ]
     },
     "execution_count": 5,
     "metadata": {},
     "output_type": "execute_result"
    }
   ],
   "source": [
    "true_parameters_reduced = pd.Series({'KA': 8., \n",
    "                                     'kd': -2.2, \n",
    "                                     'k': -2.2, \n",
    "                                     'S0': -8.,\n",
    "                                     'sigma_kin': -7.,\n",
    "                                     'sigma_ads': -9.})\n",
    "\n",
    "true_parameters_reduced                        "
   ]
  },
  {
   "cell_type": "markdown",
   "metadata": {},
   "source": [
    "We'll store the true parameters in a csv file for future use (in other notebooks)."
   ]
  },
  {
   "cell_type": "code",
   "execution_count": 6,
   "metadata": {
    "collapsed": true
   },
   "outputs": [],
   "source": [
    "# true_parameters_reduced.to_csv('true_parameters_reduced.csv')"
   ]
  },
  {
   "cell_type": "markdown",
   "metadata": {},
   "source": [
    "Some parameters need to be calculated from other ones before we get the full set of parameters.\n",
    "If you're interested in how this is done, refer to convenience.py"
   ]
  },
  {
   "cell_type": "code",
   "execution_count": 7,
   "metadata": {
    "scrolled": true
   },
   "outputs": [
    {
     "data": {
      "text/plain": [
       "KA            8.0\n",
       "S0           -8.0\n",
       "k            -2.2\n",
       "kd           -2.2\n",
       "sigma_ads    -9.0\n",
       "sigma_kin    -7.0\n",
       "ka            5.8\n",
       "k_LH         13.8\n",
       "k_ER          5.8\n",
       "dtype: float64"
      ]
     },
     "execution_count": 7,
     "metadata": {},
     "output_type": "execute_result"
    }
   ],
   "source": [
    "true_parameters = reformat_local_parameters(true_parameters_reduced)\n",
    "true_parameters"
   ]
  },
  {
   "cell_type": "markdown",
   "metadata": {},
   "source": [
    "# Generate data"
   ]
  },
  {
   "cell_type": "markdown",
   "metadata": {},
   "source": [
    "## Kinetic data\n",
    "\n",
    "We start out with an empty dataframe"
   ]
  },
  {
   "cell_type": "code",
   "execution_count": 8,
   "metadata": {
    "collapsed": true
   },
   "outputs": [],
   "source": [
    "# time in seconds\n",
    "timestep = 60\n",
    "max_time = 450\n",
    "\n",
    "times = np.arange(0, max_time + timestep, timestep)\n",
    "T0 = [5e-7, 1e-6, 2e-6, 5e-6, 1e-5, 2e-5]\n",
    "T0 = [1e-6, 2e-6, 5e-6]\n",
    "\n",
    "empty_exp_data = pd.DataFrame(np.zeros((len(times), len(T0))), index=times, columns=T0)\n",
    "empty_exp_data.columns.name = 'A'\n",
    "empty_exp_data.index.name = 'time / s'"
   ]
  },
  {
   "cell_type": "markdown",
   "metadata": {},
   "source": [
    "KineticModel requires experimental data as input, that's where the empty dataframe will go. Moreover, it requires a list of reactions and a pandas.Series of parameters.\n",
    "Finally, we pass the list of educts."
   ]
  },
  {
   "cell_type": "code",
   "execution_count": 9,
   "metadata": {},
   "outputs": [
    {
     "data": {
      "application/vnd.jupyter.widget-view+json": {
       "model_id": "82865d38c3ee42f597158b8bce0139b4",
       "version_major": 2,
       "version_minor": 0
      },
      "text/plain": [
       "A Jupyter Widget"
      ]
     },
     "metadata": {},
     "output_type": "display_data"
    }
   ],
   "source": [
    "true_kin_model = KineticModel(empty_exp_data, ER_reactions, true_parameters, educts=['A'])\n",
    "true_kin_model.create_native_odesys()\n",
    "true_kin_model.interactive_plot()"
   ]
  },
  {
   "cell_type": "markdown",
   "metadata": {},
   "source": [
    "We can look at the reactions of the model and the corresponding rate constants"
   ]
  },
  {
   "cell_type": "code",
   "execution_count": 10,
   "metadata": {},
   "outputs": [
    {
     "data": {
      "text/html": [
       "<table class=\"chempy_ReactionSystem chempy_139901373772432\"><tr><th style=\"text-align:center;\" colspan=\"4\"></th></tr><tr class=\"chempy_139901373772432_0\"><td style=\"text-align:right;\"><span class=\"chempy_A\" style=\"border-radius: 5pt; padding: 0pt 3pt 0pt 3pt;\">A</span> + <span class=\"chempy_S\" style=\"border-radius: 5pt; padding: 0pt 3pt 0pt 3pt;\">S</span></td><td style=\"text-align:center;\">&rarr;</td><td style=\"text-align:left;\"><span class=\"chempy_AS\" style=\"border-radius: 5pt; padding: 0pt 3pt 0pt 3pt;\">AS</span></td><td style=\"text-align:left;\">&nbsp;ka</td></tr>\n",
       "\n",
       "<tr class=\"chempy_139901373772432_1\"><td style=\"text-align:right;\"><span class=\"chempy_AS\" style=\"border-radius: 5pt; padding: 0pt 3pt 0pt 3pt;\">AS</span></td><td style=\"text-align:center;\">&rarr;</td><td style=\"text-align:left;\"><span class=\"chempy_A\" style=\"border-radius: 5pt; padding: 0pt 3pt 0pt 3pt;\">A</span> + <span class=\"chempy_S\" style=\"border-radius: 5pt; padding: 0pt 3pt 0pt 3pt;\">S</span></td><td style=\"text-align:left;\">&nbsp;kd</td></tr>\n",
       "\n",
       "<tr class=\"chempy_139901373772432_2\"><td style=\"text-align:right;\"><span class=\"chempy_A\" style=\"border-radius: 5pt; padding: 0pt 3pt 0pt 3pt;\">A</span> + <span class=\"chempy_AS\" style=\"border-radius: 5pt; padding: 0pt 3pt 0pt 3pt;\">AS</span></td><td style=\"text-align:center;\">&rarr;</td><td style=\"text-align:left;\"><span class=\"chempy_A\" style=\"border-radius: 5pt; padding: 0pt 3pt 0pt 3pt;\">A</span> + <span class=\"chempy_P\" style=\"background-color:#90ee90; border: 1px solid #008000; border-radius: 5pt; padding: 0pt 3pt 0pt 3pt;\">P</span> + <span class=\"chempy_S\" style=\"border-radius: 5pt; padding: 0pt 3pt 0pt 3pt;\">S</span></td><td style=\"text-align:left;\">&nbsp;k_ER</td></tr></table><script type=\"text/javascript\">\n",
       "var cls_names_substances = [\"chempy_A\", \"chempy_AS\", \"chempy_P\", \"chempy_S\"];\n",
       "var substance_row_cls_irrel = {\"chempy_AS\": [], \"chempy_S\": [], \"chempy_A\": [], \"chempy_P\": [\"chempy_139901373772432_0\", \"chempy_139901373772432_1\"]};\n",
       "var elms = {};\n",
       "var n = {}, nsubstances = cls_names_substances.length;\n",
       "var nirrel = {};\n",
       "function changeColor(classname, color) {\n",
       "    var curN = n[classname];\n",
       "    for(var i = 0; i < curN; i++) {\n",
       "        elms[classname][i].style.backgroundColor = color;\n",
       "    }\n",
       "}\n",
       "function toggleVisibility(classname_substance) {\n",
       "    var curN = nirrel[classname_substance];\n",
       "    for (var i=0; i<curN; i++) {\n",
       "        var objs = document.getElementsByClassName(substance_row_cls_irrel[classname_substance][i]);\n",
       "        for (var j=0; j<objs.length; ++j){\n",
       "            objs[j].style.display = objs[j].style.display == \"none\" ? \"table-row\" : \"none\";\n",
       "        }\n",
       "    }\n",
       "}\n",
       "function resetTab(tab){\n",
       "    tab.style.border = \"0px\";\n",
       "    var rows = tab.getElementsByTagName('tr');\n",
       "    [].forEach.call(rows, function(row){\n",
       "        row.style.display = \"table-row\";\n",
       "    });\n",
       "    tab.getElementsByTagName('th')[0].innerHTML = tab.ori_header +\n",
       "        \"<br>(click on species to show a subset of reactions)\";\n",
       "};\n",
       "\n",
       "for(var k = 0; k < nsubstances; k++) {\n",
       "    var curClass = cls_names_substances[k];\n",
       "    var curIrrel = substance_row_cls_irrel[k];\n",
       "    elms[curClass] = document.getElementsByClassName(curClass);\n",
       "    n[curClass] = elms[curClass].length;\n",
       "    nirrel[curClass] = substance_row_cls_irrel[curClass].length;\n",
       "    var curN = n[curClass];\n",
       "    for(var i = 0; i < curN; i++) {\n",
       "        elms[curClass][i].onmouseover = function() {\n",
       "            changeColor(this.className, \"LightBlue\");\n",
       "        };\n",
       "        elms[curClass][i].onmouseout = function() {\n",
       "            changeColor(this.className, \"inherit\");\n",
       "        };\n",
       "        elms[curClass][i].onclick = function() {\n",
       "            var tab = this.closest(\"table\");\n",
       "            resetTab(tab);\n",
       "            tab.style.border = \"1px dashed #000000\";\n",
       "            toggleVisibility(this.className);\n",
       "            tab.getElementsByTagName('th')[0].innerHTML = tab.ori_header +\n",
       "                 \"<br>Only showing reactions involving: \" + this.innerHTML +\n",
       "                 \" (double-click to reset)\";\n",
       "        };\n",
       "    }\n",
       "};\n",
       "var chempy_tabs = document.querySelectorAll('table.chempy_139901373772432');\n",
       "[].forEach.call(chempy_tabs, function(tab){\n",
       "    tab.ori_header = tab.getElementsByTagName('th')[0].innerHTML;\n",
       "    tab.ondblclick = function(){\n",
       "        resetTab(this);\n",
       "        this.scrollIntoView();\n",
       "    };\n",
       "});\n",
       "[].forEach.call(chempy_tabs, function(tab){\n",
       "    resetTab(tab);\n",
       "});\n",
       "</script>"
      ],
      "text/plain": [
       "<chempy.reactionsystem.ReactionSystem at 0x7f3d53aff290>"
      ]
     },
     "execution_count": 10,
     "metadata": {},
     "output_type": "execute_result"
    }
   ],
   "source": [
    "true_kin_model.model"
   ]
  },
  {
   "cell_type": "markdown",
   "metadata": {},
   "source": [
    "Now we create an instance of `Likelihood` for the kinetics. This is useful to consistently calculate $p(D | \\theta)$ and also to draw from the distribution\n",
    "\n",
    "$[\\mathrm{A}]^{\\mathrm{observed}} \\sim N([\\mathrm{A}]^{\\mathrm{model}}, \\sigma)$"
   ]
  },
  {
   "cell_type": "code",
   "execution_count": 11,
   "metadata": {},
   "outputs": [
    {
     "name": "stderr",
     "output_type": "stream",
     "text": [
      "INFO:pyodesys.native._base:In \"/tmp/tmpUxyPjG_pycodeexport_pyodesys_NativeCvodeCode\", executing:\n",
      "\"/usr/bin/g++ -c -std=c++11 -Wall -Wextra -fPIC -O2 -ffast-math -funroll-loops -fopenmp -o ./odesys_anyode.o -I/home/niklas/anaconda2/lib/python2.7/site-packages/numpy/core/include -I/home/niklas/anaconda2/lib/python2.7/site-packages/pyodesys/native/sources -I/home/niklas/anaconda2/lib/python2.7/site-packages/pycvodes/include odesys_anyode.cpp\"\n",
      "INFO:pyodesys.native._base:In \"/tmp/tmpUxyPjG_pycodeexport_pyodesys_NativeCvodeCode\", executing:\n",
      "\"/usr/bin/g++ -pthread -shared -std=c++11 -Wall -Wextra -fPIC -O2 -ffast-math -funroll-loops -fopenmp -o /tmp/tmpUxyPjG_pycodeexport_pyodesys_NativeCvodeCode/_cvode_wrapper.so -I/home/niklas/anaconda2/lib/python2.7/site-packages/numpy/core/include -I/home/niklas/anaconda2/lib/python2.7/site-packages/pyodesys/native/sources -I/home/niklas/anaconda2/lib/python2.7/site-packages/pycvodes/include odesys_anyode.o _cvode_wrapper.o -lsundials_cvodes -lsundials_nvecserial -lsundials_sunlinsollapackdense -lsundials_sunlinsollapackband -lopenblas -lpython2.7\"\n",
      "/home/niklas/python_packages/workflows/kinetic_modeling/bayesian_framework.py:144: MatplotlibDeprecationWarning: scipy.stats.norm.pdf\n",
      "  return self.norm(modeled_value, exp_value, sigma)\n"
     ]
    }
   ],
   "source": [
    "true_kin_likelihood = Likelihood(true_kin_model, FixStandardDeviation('sigma_kin'))"
   ]
  },
  {
   "cell_type": "markdown",
   "metadata": {},
   "source": [
    "We don't want any negative concentrations:"
   ]
  },
  {
   "cell_type": "code",
   "execution_count": 12,
   "metadata": {
    "collapsed": true
   },
   "outputs": [],
   "source": [
    "success = False\n",
    "while not success:\n",
    "    observed_kin_data = true_kin_likelihood.generate_D_from_theta(true_parameters)\n",
    "    if (observed_kin_data < 0).sum().sum() == 0:\n",
    "        success = True"
   ]
  },
  {
   "cell_type": "markdown",
   "metadata": {},
   "source": [
    "We can store the kinetic data to a csv file now:"
   ]
  },
  {
   "cell_type": "code",
   "execution_count": 13,
   "metadata": {
    "collapsed": true
   },
   "outputs": [],
   "source": [
    "# observed_kin_data.to_csv('observed_kin_data.csv')"
   ]
  },
  {
   "cell_type": "markdown",
   "metadata": {},
   "source": [
    "Plot the kinetic data:"
   ]
  },
  {
   "cell_type": "code",
   "execution_count": 14,
   "metadata": {},
   "outputs": [
    {
     "data": {
      "text/plain": [
       "<matplotlib.axes._subplots.AxesSubplot at 0x7f3d53ae10d0>"
      ]
     },
     "execution_count": 14,
     "metadata": {},
     "output_type": "execute_result"
    },
    {
     "data": {
      "image/png": "[encoded data removed]",
      "text/plain": [
       "<Figure size 432x288 with 1 Axes>"
      ]
     },
     "metadata": {},
     "output_type": "display_data"
    }
   ],
   "source": [
    "observed_kin_data.plot()"
   ]
  },
  {
   "cell_type": "markdown",
   "metadata": {},
   "source": [
    "# Equilibrium adsorption"
   ]
  },
  {
   "cell_type": "markdown",
   "metadata": {},
   "source": [
    "Kinetic models can be combined with anything that can be expressed as a function, e.g. the Langmuir isotherm"
   ]
  },
  {
   "cell_type": "code",
   "execution_count": 15,
   "metadata": {
    "collapsed": true
   },
   "outputs": [],
   "source": [
    "def langmuir_isotherm(A, KA, S0):\n",
    "    KAA = A * KA\n",
    "    return S0* KAA / (1 + KAA)"
   ]
  },
  {
   "cell_type": "markdown",
   "metadata": {},
   "source": [
    "Generate an array of unbound [A]: this would be the x-Axis in the plot."
   ]
  },
  {
   "cell_type": "code",
   "execution_count": 16,
   "metadata": {},
   "outputs": [
    {
     "data": {
      "text/plain": [
       "array([3.16227766e-09, 5.01187234e-09, 7.94328235e-09, 1.25892541e-08,\n",
       "       1.99526231e-08, 3.16227766e-08, 5.01187234e-08, 7.94328235e-08,\n",
       "       1.25892541e-07, 1.99526231e-07])"
      ]
     },
     "execution_count": 16,
     "metadata": {},
     "output_type": "execute_result"
    }
   ],
   "source": [
    "conc_A = np.power(10, np.arange(-8.5, -6.5, 1/5.))\n",
    "conc_A"
   ]
  },
  {
   "cell_type": "code",
   "execution_count": 17,
   "metadata": {
    "collapsed": true
   },
   "outputs": [],
   "source": [
    "def calc_eq_adsorption(parameters):\n",
    "    return langmuir_isotherm(conc_A, 10**parameters['KA'], 10**parameters['S0'])"
   ]
  },
  {
   "cell_type": "code",
   "execution_count": 18,
   "metadata": {
    "collapsed": true
   },
   "outputs": [],
   "source": [
    "true_eq_adsorption_data = pd.Series(calc_eq_adsorption(true_parameters), index=conc_A)"
   ]
  },
  {
   "cell_type": "code",
   "execution_count": 19,
   "metadata": {},
   "outputs": [
    {
     "data": {
      "text/plain": [
       "<matplotlib.axes._subplots.AxesSubplot at 0x7f3d529ed6d0>"
      ]
     },
     "execution_count": 19,
     "metadata": {},
     "output_type": "execute_result"
    },
    {
     "data": {
      "image/png": "[encoded data removed]",
      "text/plain": [
       "<Figure size 432x288 with 1 Axes>"
      ]
     },
     "metadata": {},
     "output_type": "display_data"
    }
   ],
   "source": [
    "true_eq_adsorption_data.plot()"
   ]
  },
  {
   "cell_type": "markdown",
   "metadata": {},
   "source": [
    "Again, we create a `Likelihood` instance, this time for the equilibrium adsorption."
   ]
  },
  {
   "cell_type": "code",
   "execution_count": 20,
   "metadata": {
    "collapsed": true
   },
   "outputs": [],
   "source": [
    "true_eq_adsorption_likelihood = Likelihood(calc_eq_adsorption, FixStandardDeviation('sigma_ads'), exp_data_formatted=true_eq_adsorption_data)"
   ]
  },
  {
   "cell_type": "code",
   "execution_count": 21,
   "metadata": {
    "collapsed": true
   },
   "outputs": [],
   "source": [
    "success = False\n",
    "while not success:\n",
    "    observed_eq_adsorption_data = true_eq_adsorption_likelihood.generate_D_from_theta(true_parameters)\n",
    "    if (observed_eq_adsorption_data < 0).sum().sum() == 0:\n",
    "        success = True"
   ]
  },
  {
   "cell_type": "markdown",
   "metadata": {},
   "source": [
    "Save the equilibrium adsorption data to a csv file and plot the stored data (including noise) to the noisefree data."
   ]
  },
  {
   "cell_type": "code",
   "execution_count": 22,
   "metadata": {
    "collapsed": true
   },
   "outputs": [],
   "source": [
    "# observed_eq_adsorption_data.to_csv('observed_eq_adsorption_data.csv')"
   ]
  },
  {
   "cell_type": "code",
   "execution_count": 23,
   "metadata": {},
   "outputs": [
    {
     "data": {
      "text/plain": [
       "<matplotlib.axes._subplots.AxesSubplot at 0x7f3d52989e50>"
      ]
     },
     "execution_count": 23,
     "metadata": {},
     "output_type": "execute_result"
    },
    {
     "data": {
      "image/png": "[encoded data removed]",
      "text/plain": [
       "<Figure size 432x288 with 1 Axes>"
      ]
     },
     "metadata": {},
     "output_type": "display_data"
    }
   ],
   "source": [
    "ax = observed_eq_adsorption_data.plot(style='o')\n",
    "true_eq_adsorption_data.plot(ax=ax)"
   ]
  },
  {
   "cell_type": "markdown",
   "metadata": {},
   "source": [
    "# Time-dependent (td) adsorption"
   ]
  },
  {
   "cell_type": "markdown",
   "metadata": {},
   "source": [
    "Again, we need to create an empty dataframe to pass to KineticModel for the time-dependent adsorption."
   ]
  },
  {
   "cell_type": "code",
   "execution_count": 24,
   "metadata": {
    "collapsed": true
   },
   "outputs": [],
   "source": [
    "td_adsorption_time = np.arange(0, 60, 5.)\n",
    "empty_td_adsorption_data = pd.DataFrame({2.5e-8: [0]* len(td_adsorption_time), \n",
    "                                  5e-8: [0]* len(td_adsorption_time)}, index=td_adsorption_time)\n",
    "empty_td_adsorption_data.columns.name = 'A'\n",
    "empty_td_adsorption_data.index.name = 'time / s'"
   ]
  },
  {
   "cell_type": "markdown",
   "metadata": {},
   "source": [
    "This time, we want to pass `observed_specis=[AS]` to monitor the concentration of the adsorbed protease."
   ]
  },
  {
   "cell_type": "code",
   "execution_count": 25,
   "metadata": {},
   "outputs": [
    {
     "data": {
      "application/vnd.jupyter.widget-view+json": {
       "model_id": "448ab2529e3c4c0ebabb3bd939733ab2",
       "version_major": 2,
       "version_minor": 0
      },
      "text/plain": [
       "A Jupyter Widget"
      ]
     },
     "metadata": {},
     "output_type": "display_data"
    }
   ],
   "source": [
    "true_td_adsorption = KineticModel(empty_td_adsorption_data, adsorption_equilibrium, true_parameters, educts='A', observed_species='AS')\n",
    "true_td_adsorption.create_native_odesys()\n",
    "true_td_adsorption.interactive_plot()"
   ]
  },
  {
   "cell_type": "code",
   "execution_count": 26,
   "metadata": {},
   "outputs": [
    {
     "name": "stderr",
     "output_type": "stream",
     "text": [
      "INFO:pyodesys.native._base:In \"/tmp/tmpgPoNrt_pycodeexport_pyodesys_NativeCvodeCode\", executing:\n",
      "\"/usr/bin/g++ -c -std=c++11 -Wall -Wextra -fPIC -O2 -ffast-math -funroll-loops -fopenmp -o ./odesys_anyode.o -I/home/niklas/anaconda2/lib/python2.7/site-packages/numpy/core/include -I/home/niklas/anaconda2/lib/python2.7/site-packages/pyodesys/native/sources -I/home/niklas/anaconda2/lib/python2.7/site-packages/pycvodes/include odesys_anyode.cpp\"\n",
      "INFO:pyodesys.native._base:In \"/tmp/tmpgPoNrt_pycodeexport_pyodesys_NativeCvodeCode\", executing:\n",
      "\"/usr/bin/g++ -pthread -shared -std=c++11 -Wall -Wextra -fPIC -O2 -ffast-math -funroll-loops -fopenmp -o /tmp/tmpgPoNrt_pycodeexport_pyodesys_NativeCvodeCode/_cvode_wrapper.so -I/home/niklas/anaconda2/lib/python2.7/site-packages/numpy/core/include -I/home/niklas/anaconda2/lib/python2.7/site-packages/pyodesys/native/sources -I/home/niklas/anaconda2/lib/python2.7/site-packages/pycvodes/include odesys_anyode.o _cvode_wrapper.o -lsundials_cvodes -lsundials_nvecserial -lsundials_sunlinsollapackdense -lsundials_sunlinsollapackband -lopenblas -lpython2.7\"\n"
     ]
    }
   ],
   "source": [
    "true_td_adsorption_likelihood = Likelihood(true_td_adsorption, FixStandardDeviation('sigma_ads'))"
   ]
  },
  {
   "cell_type": "code",
   "execution_count": 27,
   "metadata": {
    "collapsed": true
   },
   "outputs": [],
   "source": [
    "success = False\n",
    "while not success:\n",
    "    observed_td_adsorption_data = true_td_adsorption_likelihood.generate_D_from_theta(true_parameters)\n",
    "    if (observed_td_adsorption_data < 0).sum().sum() == 0:\n",
    "        success = True"
   ]
  },
  {
   "cell_type": "code",
   "execution_count": 28,
   "metadata": {
    "collapsed": true
   },
   "outputs": [],
   "source": [
    "# observed_td_adsorption_data.index.name = 'time / s'\n",
    "# observed_td_adsorption_data.columns.name = 'A'\n",
    "# observed_td_adsorption_data.to_csv('observed_td_adsorption_data_complete.csv')\n",
    "\n",
    "# # We should only model data points where assumption of normal distribution is acceptable\n",
    "# observed_td_adsorption_data.loc[10:].to_csv('observed_td_adsorption_data.csv')"
   ]
  },
  {
   "cell_type": "code",
   "execution_count": 29,
   "metadata": {},
   "outputs": [
    {
     "data": {
      "text/plain": [
       "<matplotlib.axes._subplots.AxesSubplot at 0x7f3d52995350>"
      ]
     },
     "execution_count": 29,
     "metadata": {},
     "output_type": "execute_result"
    },
    {
     "data": {
      "image/png": "[encoded data removed]",
      "text/plain": [
       "<Figure size 432x288 with 1 Axes>"
      ]
     },
     "metadata": {},
     "output_type": "display_data"
    }
   ],
   "source": [
    "observed_td_adsorption_data.loc[10:].plot()"
   ]
  }
 ],
 "metadata": {
  "kernelspec": {
   "display_name": "Python 2",
   "language": "python",
   "name": "python2"
  },
  "language_info": {
   "codemirror_mode": {
    "name": "ipython",
    "version": 2
   },
   "file_extension": ".py",
   "mimetype": "text/x-python",
   "name": "python",
   "nbconvert_exporter": "python",
   "pygments_lexer": "ipython2",
   "version": "2.7.15"
  }
 },
 "nbformat": 4,
 "nbformat_minor": 2
}
